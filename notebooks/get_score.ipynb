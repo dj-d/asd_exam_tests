{
 "cells": [
  {
   "cell_type": "code",
   "execution_count": 1,
   "metadata": {},
   "outputs": [],
   "source": [
    "import os\n",
    "import subprocess"
   ]
  },
  {
   "cell_type": "code",
   "execution_count": 2,
   "metadata": {},
   "outputs": [],
   "source": [
    "PROJECT_PATH='/home/dj-d/Repositories/GitHub/elasticsearch/'\n",
    "\n",
    "TOOL_PATH='/home/dj-d/University/Automated_Software_Delivery/Exam/readability'\n",
    "\n",
    "ASD_PATH='/home/dj-d/Repositories/GitHub/asd_exam'"
   ]
  },
  {
   "cell_type": "code",
   "execution_count": 12,
   "metadata": {},
   "outputs": [],
   "source": [
    "os.chdir(TOOL_PATH)\n",
    "cmd = f'java -jar rsm.jar {PROJECT_PATH}test/test-clusters/src/main/java/org/elasticsearch/test/cluster/local/LocalClusterFactory.java'\n",
    "\n",
    "process = subprocess.Popen(cmd.split(), stdout=subprocess.PIPE, stderr=subprocess.PIPE)\n",
    "\n",
    "_output, _error = process.communicate()"
   ]
  },
  {
   "cell_type": "code",
   "execution_count": 14,
   "metadata": {},
   "outputs": [
    {
     "data": {
      "text/plain": [
       "['[INFO]',\n",
       " 'RiTa.WordNet.version',\n",
       " '[033]',\n",
       " 'file',\n",
       " 'readability',\n",
       " '/home/dj-d/Repositories/GitHub/elasticsearch/test/test-clusters/src/main/java/org/elasticsearch/test/cluster/local/LocalClusterFactory.java',\n",
       " '0.46940952860417645']"
      ]
     },
     "execution_count": 14,
     "metadata": {},
     "output_type": "execute_result"
    }
   ],
   "source": [
    "_output.decode('utf-8').split()"
   ]
  },
  {
   "cell_type": "code",
   "execution_count": 16,
   "metadata": {},
   "outputs": [
    {
     "data": {
      "text/plain": [
       "'0.46940952860417645'"
      ]
     },
     "execution_count": 16,
     "metadata": {},
     "output_type": "execute_result"
    }
   ],
   "source": [
    "_output.decode('utf-8').split()[-1]"
   ]
  }
 ],
 "metadata": {
  "kernelspec": {
   "display_name": "Python 3",
   "language": "python",
   "name": "python3"
  },
  "language_info": {
   "codemirror_mode": {
    "name": "ipython",
    "version": 3
   },
   "file_extension": ".py",
   "mimetype": "text/x-python",
   "name": "python",
   "nbconvert_exporter": "python",
   "pygments_lexer": "ipython3",
   "version": "3.7.7 (default, Aug 22 2022, 17:05:21) \n[GCC 12.2.0]"
  },
  "orig_nbformat": 4,
  "vscode": {
   "interpreter": {
    "hash": "b985e444462d8e8e77dc66885b887dd8f4486de673dd17d5474dbad436987e0a"
   }
  }
 },
 "nbformat": 4,
 "nbformat_minor": 2
}
